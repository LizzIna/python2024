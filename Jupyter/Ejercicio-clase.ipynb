{
 "cells": [
  {
   "cell_type": "code",
   "execution_count": 1,
   "metadata": {},
   "outputs": [],
   "source": [
    "import numpy as np\n",
    "import matplotlib.pyplot as plt"
   ]
  },
  {
   "cell_type": "markdown",
   "metadata": {},
   "source": [
    "generar un vector aleatorio que incluya numeros negativos desde el -10 hasta el 10 positivo.\n",
    "este vector debe tener 25 elementos. deben ser numeros flotantes."
   ]
  },
  {
   "cell_type": "code",
   "execution_count": 30,
   "metadata": {},
   "outputs": [
    {
     "data": {
      "text/plain": [
       "array([ 6.93797555, -1.17602431, -4.3513459 ,  7.78076531, 10.99488263,\n",
       "        6.52595872, 10.637982  , -4.90004294,  4.68536491,  2.38132071,\n",
       "        4.2673075 , -0.32462657,  3.22007906,  8.88927762, -1.71292744,\n",
       "        0.18472603,  7.39109717, -8.13911686, -6.16007164, -3.16737204,\n",
       "       -4.89589252,  3.00222261, 10.64552932, -0.57894325, -2.20470359])"
      ]
     },
     "execution_count": 30,
     "metadata": {},
     "output_type": "execute_result"
    }
   ],
   "source": [
    "vector = np.random.uniform(-10,11,25)\n",
    "vector"
   ]
  },
  {
   "cell_type": "markdown",
   "metadata": {},
   "source": [
    "Transformar el vector de una matriz cuadrada de 3*3. obtener el promedio de la matriz"
   ]
  },
  {
   "cell_type": "code",
   "execution_count": 42,
   "metadata": {},
   "outputs": [
    {
     "data": {
      "text/plain": [
       "array([[ 6.93797555, -1.17602431, -4.3513459 ,  7.78076531, 10.99488263],\n",
       "       [ 6.52595872, 10.637982  , -4.90004294,  4.68536491,  2.38132071],\n",
       "       [ 4.2673075 , -0.32462657,  3.22007906,  8.88927762, -1.71292744],\n",
       "       [ 0.18472603,  7.39109717, -8.13911686, -6.16007164, -3.16737204],\n",
       "       [-4.89589252,  3.00222261, 10.64552932, -0.57894325, -2.20470359]])"
      ]
     },
     "execution_count": 42,
     "metadata": {},
     "output_type": "execute_result"
    }
   ],
   "source": [
    "matriz = vector.reshape(5, 5)\n",
    "matriz"
   ]
  },
  {
   "cell_type": "code",
   "execution_count": 43,
   "metadata": {},
   "outputs": [
    {
     "data": {
      "text/plain": [
       "1.9973368830969278"
      ]
     },
     "execution_count": 43,
     "metadata": {},
     "output_type": "execute_result"
    }
   ],
   "source": [
    "promedio = np.mean(matriz)\n",
    "promedio"
   ]
  },
  {
   "cell_type": "markdown",
   "metadata": {},
   "source": [
    "generar un mapa de calor a travez de la matriz generada anteriormente."
   ]
  },
  {
   "cell_type": "code",
   "execution_count": null,
   "metadata": {},
   "outputs": [],
   "source": []
  }
 ],
 "metadata": {
  "kernelspec": {
   "display_name": "Python 3",
   "language": "python",
   "name": "python3"
  },
  "language_info": {
   "codemirror_mode": {
    "name": "ipython",
    "version": 3
   },
   "file_extension": ".py",
   "mimetype": "text/x-python",
   "name": "python",
   "nbconvert_exporter": "python",
   "pygments_lexer": "ipython3",
   "version": "3.12.3"
  }
 },
 "nbformat": 4,
 "nbformat_minor": 2
}
